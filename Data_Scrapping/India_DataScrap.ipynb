{
 "cells": [
  {
   "cell_type": "code",
   "execution_count": 1,
   "metadata": {},
   "outputs": [
    {
     "name": "stdout",
     "output_type": "stream",
     "text": [
      "Saving last updated on 2020-11-06T11:30:18.227Z\n",
      "Done\n"
     ]
    }
   ],
   "source": [
    "import json\n",
    "#pip install pandas\n",
    "import pandas as pd\n",
    "import urllib.request\n",
    "\n",
    "with urllib.request.urlopen(\"https://api.rootnet.in/covid19-in/stats/history\") as url:\n",
    "    data = json.loads(url.read().decode())\n",
    "\n",
    "print(\"Saving last updated on\", data['lastRefreshed'])\n",
    "\n",
    "column_names = ['Date','Total Confirmed cases (Indian National)','Total Confirmed cases ( Foreign National )','Cured/Discharged/Migrated','Death','Total Confirmed cases']\n",
    "\n",
    "df = pd.DataFrame(columns = column_names)\n",
    "\n",
    "dflist = list()\n",
    "for day in data['data']:\n",
    "    for summary in [day['summary']]:\n",
    "        dflist.append([day['day'],summary['confirmedCasesIndian'],summary['confirmedCasesForeign'],summary['discharged'],summary['deaths'],summary['total']])\n",
    "\n",
    "df = pd.DataFrame(dflist, columns = column_names)\n",
    "\n",
    "df['Date'] = pd.to_datetime(df['Date'])\n",
    "\n",
    "df['Date'] = df['Date'].dt.strftime('%Y-%m-%d')\n",
    "\n",
    "# df[df.Date=='2020-05-20']\n",
    "\n",
    "# state = pd.read_csv('states.csv',names=['Name of State/UT','Latitude','Longitude'])\n",
    "\n",
    "# dfs = pd.merge(df, state, on='Name of State / UT',how='left')\n",
    "\n",
    "\n",
    "df.to_csv('india_ts.csv',index=None)\n",
    "\n",
    "\n",
    "print(\"Done\")\n"
   ]
  },
  {
   "cell_type": "code",
   "execution_count": null,
   "metadata": {},
   "outputs": [],
   "source": []
  }
 ],
 "metadata": {
  "kernelspec": {
   "display_name": "Python 3",
   "language": "python",
   "name": "python3"
  },
  "language_info": {
   "codemirror_mode": {
    "name": "ipython",
    "version": 3
   },
   "file_extension": ".py",
   "mimetype": "text/x-python",
   "name": "python",
   "nbconvert_exporter": "python",
   "pygments_lexer": "ipython3",
   "version": "3.7.7"
  }
 },
 "nbformat": 4,
 "nbformat_minor": 4
}
